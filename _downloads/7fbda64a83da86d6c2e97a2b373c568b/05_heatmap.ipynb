{
  "cells": [
    {
      "cell_type": "markdown",
      "metadata": {},
      "source": [
        "\n# Heatmap\n\nA heatmap allows you to visualize the distribution of a specific attribute across a 3D block model from\na 2D perspective.\n"
      ]
    },
    {
      "cell_type": "code",
      "execution_count": null,
      "metadata": {
        "collapsed": false
      },
      "outputs": [],
      "source": [
        "import tempfile\n\nimport numpy as np\nimport pandas as pd\nfrom pathlib import Path\n\nimport plotly.graph_objects as go\n\nfrom parq_blockmodel import ParquetBlockModel"
      ]
    },
    {
      "cell_type": "markdown",
      "metadata": {},
      "source": [
        "## Create a Parquet Block Model\nWe leverage the create_demo_block_model class method to create a Parquet Block Model.\n\n"
      ]
    },
    {
      "cell_type": "code",
      "execution_count": null,
      "metadata": {
        "collapsed": false
      },
      "outputs": [],
      "source": [
        "temp_dir = Path(tempfile.gettempdir()) / \"block_model_example\"\ntemp_dir.mkdir(parents=True, exist_ok=True)\n\npbm: ParquetBlockModel = ParquetBlockModel.create_demo_block_model(\n    filename=temp_dir / \"demo_block_model.parquet\")\npbm"
      ]
    },
    {
      "cell_type": "markdown",
      "metadata": {},
      "source": [
        "## Create Heatmap\nWe'll create a heatmap plot in plan view.\n\n"
      ]
    },
    {
      "cell_type": "code",
      "execution_count": null,
      "metadata": {
        "collapsed": false
      },
      "outputs": [],
      "source": [
        "fig: go.Figure = pbm.plot_heatmap(attribute='c_index',\n                                  threshold=4,\n                                  axis='z')\n\nfig"
      ]
    },
    {
      "cell_type": "markdown",
      "metadata": {},
      "source": [
        "view the heatmap matrix\n\n"
      ]
    },
    {
      "cell_type": "code",
      "execution_count": null,
      "metadata": {
        "collapsed": false
      },
      "outputs": [],
      "source": [
        "heatmap_matrix: np.ndarray = pbm.create_heatmap_from_threshold(attribute='c_index',\n                                                                 threshold=4,\n                                                                 axis='z',\n                                                                 return_array=True)\n\nheatmap_matrix"
      ]
    }
  ],
  "metadata": {
    "kernelspec": {
      "display_name": "Python 3",
      "language": "python",
      "name": "python3"
    },
    "language_info": {
      "codemirror_mode": {
        "name": "ipython",
        "version": 3
      },
      "file_extension": ".py",
      "mimetype": "text/x-python",
      "name": "python",
      "nbconvert_exporter": "python",
      "pygments_lexer": "ipython3",
      "version": "3.12.9"
    }
  },
  "nbformat": 4,
  "nbformat_minor": 0
}