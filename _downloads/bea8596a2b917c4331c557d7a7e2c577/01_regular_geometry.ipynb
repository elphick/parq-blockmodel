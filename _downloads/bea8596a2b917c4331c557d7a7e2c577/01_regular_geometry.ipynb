{
  "cells": [
    {
      "cell_type": "markdown",
      "metadata": {},
      "source": [
        "\n# Regular Geometry\n\nThe underlying geometry (a.k.a. grid) is the foundation of a block model.\nSince parq-blockmodel is designed to work with regular geometries,  this example demonstrates\nthe underlying regular geometry by visualising it with PyVista.\n"
      ]
    },
    {
      "cell_type": "code",
      "execution_count": null,
      "metadata": {
        "collapsed": false
      },
      "outputs": [],
      "source": [
        "import tempfile\n\nimport pandas as pd\nfrom pathlib import Path\n\nfrom seaborn import axes_style\n\nfrom parq_blockmodel import ParquetBlockModel, RegularGeometry"
      ]
    },
    {
      "cell_type": "markdown",
      "metadata": {},
      "source": [
        "## Create Geometry\nWe RegularGeometry object (not a ParquetBlockModel).  The geometry knows nothing about attributes,\nit only knows about the underlying geometry of the block model.\n\n"
      ]
    },
    {
      "cell_type": "code",
      "execution_count": null,
      "metadata": {
        "collapsed": false
      },
      "outputs": [],
      "source": [
        "corner: tuple[float, float, float] = (0.0, 0.0, 0.0)\nblock_size: tuple[float, float, float] = (1.0, 1.0, 1.0)\nshape: tuple[int, int, int] = (2, 2, 2)\n\ngeom: RegularGeometry = RegularGeometry(shape=shape,\n                                        block_size=block_size,\n                                        corner=corner\n                                        )\n\ngeom"
      ]
    },
    {
      "cell_type": "markdown",
      "metadata": {},
      "source": [
        "## Visualise in 3D\nPlot using PyVista.  The geometry is a mesh, so we can use the `plot` method to visualise it.\n\n"
      ]
    },
    {
      "cell_type": "code",
      "execution_count": null,
      "metadata": {
        "collapsed": false
      },
      "outputs": [],
      "source": [
        "import pyvista as pv\n\nisometric_view = [\n    (6, 5, 3),  # camera position\n    (1, 1, 1),  # focal point (center of the grid)\n    (0, 0, 1),  # view up direction\n]\n\n# Create a PyVista plotter\nplotter = pv.Plotter()\nedges = geom.to_pyvista().extract_all_edges()\nplotter.add_mesh(edges, color=\"black\", line_width=1)\nplotter.show_axes()\nplotter.camera_position = isometric_view\nplotter.show(title=\"Regular Geometry\", window_size=(800, 600))"
      ]
    },
    {
      "cell_type": "markdown",
      "metadata": {},
      "source": [
        "## Visualise in 2D\nIn most cases a 2D visualisation is sufficient to understand the underlying geometry.\nWe can use the `to_pyvista` method to get a PyVista mesh and then plot it in 2D.\n\n"
      ]
    },
    {
      "cell_type": "code",
      "execution_count": null,
      "metadata": {
        "collapsed": false
      },
      "outputs": [],
      "source": [
        "grid = geom.to_pyvista()\n# Slice at z=0.5 to intersect the first layer of cells\nslice_2d = grid.slice(normal='z', origin=(0, 0, 0.5))\nedges_2d = slice_2d.extract_all_edges()\n\npoints = edges_2d.points\nlabels = [f\"({x:.1f}, {y:.1f})\" for x, y, _ in points]\n\ncentroids_mesh = slice_2d.cell_centers()\ncentroids = centroids_mesh.points\nlabels_centroids_2d = [f\"C({x:.1f}, {y:.1f})\" for x, y, _ in centroids]\n\nplotter = pv.Plotter()\nplotter.add_mesh(edges_2d, color=\"black\", show_edges=True)\nplotter.add_point_labels(points, labels, font_size=12, point_color=\"red\", point_size=10)\nplotter.add_points(centroids, color=\"blue\", point_size=15, render_points_as_spheres=True)\nplotter.add_point_labels(centroids,\n                         labels_centroids_2d,\n                         font_size=12,\n                         point_color=\"blue\",\n                         point_size=0,  # Hide label points\n                         always_visible=True,\n                         render_points_as_spheres=False)\nplotter.show_axes()\nplotter.view_xy()\nplotter.show(title=\"2D Slice with Corner and Centroid Coordinates\", window_size=(600, 600))"
      ]
    }
  ],
  "metadata": {
    "kernelspec": {
      "display_name": "Python 3",
      "language": "python",
      "name": "python3"
    },
    "language_info": {
      "codemirror_mode": {
        "name": "ipython",
        "version": 3
      },
      "file_extension": ".py",
      "mimetype": "text/x-python",
      "name": "python",
      "nbconvert_exporter": "python",
      "pygments_lexer": "ipython3",
      "version": "3.12.9"
    }
  },
  "nbformat": 4,
  "nbformat_minor": 0
}