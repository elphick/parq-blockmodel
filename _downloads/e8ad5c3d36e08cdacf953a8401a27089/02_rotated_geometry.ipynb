{
  "cells": [
    {
      "cell_type": "markdown",
      "metadata": {},
      "source": [
        "\n# Rotated Geometry\n\nRotation of a block model geometry is a common operation in geoscience applications.\nBy rotating the geometry, we can align it with geological features.\nRotation is typically specified in degrees from the cardinal orthonormal axes (x, y, z).\n"
      ]
    },
    {
      "cell_type": "code",
      "execution_count": null,
      "metadata": {
        "collapsed": false
      },
      "outputs": [],
      "source": [
        "import pyvista as pv\nfrom parq_blockmodel import RegularGeometry\nfrom parq_blockmodel.utils import rotation_to_axis_orientation\n\n# sphinx_gallery_thumbnail_number = 2"
      ]
    },
    {
      "cell_type": "markdown",
      "metadata": {},
      "source": [
        "## Create a Rotated Geometry\nCreate a geometry with 30 degrees azimuth.\n\n"
      ]
    },
    {
      "cell_type": "code",
      "execution_count": null,
      "metadata": {
        "collapsed": false
      },
      "outputs": [],
      "source": [
        "axis_u, axis_v, axis_w = rotation_to_axis_orientation(axis_azimuth=30, axis_dip=0, axis_plunge=0)\n\ngeom = RegularGeometry(corner=(0.0, 0.0, 0.0),\n                       block_size=(1.0, 1.0, 1.0),\n                       shape=(2, 2, 2),\n                       axis_u=axis_u,\n                       axis_v=axis_v,\n                       axis_w=axis_w)\n\n# Create a PyVista plotter\nisometric_view = [(6, 5, 3),  # camera position\n                  (1, 1, 1),  # focal point (center of the grid)\n                  (0, 0, 1),  # view up direction\n                  ]\nplotter = pv.Plotter()\nedges = geom.to_pyvista().extract_all_edges()\nplotter.add_mesh(edges, color=\"black\", line_width=1)\nplotter.show_axes()\nplotter.camera_position = isometric_view\nplotter.show(title=\"Rotated Regular Geometry\", window_size=(800, 600))"
      ]
    },
    {
      "cell_type": "markdown",
      "metadata": {},
      "source": [
        "Visualise in 2D\nSlice at z=0.5 to intersect the first layer of cells\n\n"
      ]
    },
    {
      "cell_type": "code",
      "execution_count": null,
      "metadata": {
        "collapsed": false
      },
      "outputs": [],
      "source": [
        "slice_2d = geom.to_pyvista().slice(normal='z', origin=(0, 0, 0.5))\nedges_2d = slice_2d.extract_all_edges()\npoints = edges_2d.points\nlabels = [f\"({x:.1f}, {y:.1f})\" for x, y, _ in points]\ncentroids_mesh = slice_2d.cell_centers()\ncentroids = centroids_mesh.points\nlabels_centroids_2d = [f\"C({x:.1f}, {y:.1f})\" for x, y, _ in centroids]\nplotter = pv.Plotter()\nplotter.add_mesh(edges_2d, color=\"black\", show_edges=True)\nplotter.add_point_labels(points, labels, font_size=12, point_color=\"red\", point_size=10)\nplotter.add_points(centroids, color=\"blue\", point_size=15, render_points_as_spheres=True)\nplotter.add_point_labels(centroids,\n                         labels_centroids_2d,\n                         font_size=12,\n                         point_color=\"blue\",\n                         point_size=0,  # Hide label points\n                         always_visible=True,\n                         render_points_as_spheres=False)\nplotter.show_axes()\nplotter.view_xy()\nplotter.show(title=\"2D Slice with Corner and Centroid Coordinates\", window_size=(600, 600))"
      ]
    }
  ],
  "metadata": {
    "kernelspec": {
      "display_name": "Python 3",
      "language": "python",
      "name": "python3"
    },
    "language_info": {
      "codemirror_mode": {
        "name": "ipython",
        "version": 3
      },
      "file_extension": ".py",
      "mimetype": "text/x-python",
      "name": "python",
      "nbconvert_exporter": "python",
      "pygments_lexer": "ipython3",
      "version": "3.12.9"
    }
  },
  "nbformat": 4,
  "nbformat_minor": 0
}