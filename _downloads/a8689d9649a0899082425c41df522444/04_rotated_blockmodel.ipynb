{
  "cells": [
    {
      "cell_type": "markdown",
      "metadata": {},
      "source": [
        "\n# Rotated Block Model\n\nThis example demonstrates how to create a rotated block model.\n"
      ]
    },
    {
      "cell_type": "code",
      "execution_count": null,
      "metadata": {
        "collapsed": false
      },
      "outputs": [],
      "source": [
        "import tempfile\n\nfrom pathlib import Path\nfrom parq_blockmodel import ParquetBlockModel\nimport pyvista as pv"
      ]
    },
    {
      "cell_type": "markdown",
      "metadata": {},
      "source": [
        "## Create a parquet block model\nWe will create a block model with a shape of 3x3x3 blocks, each block having a size of 1.0 in all dimensions.\nWe will apply rotation.\n\n"
      ]
    },
    {
      "cell_type": "code",
      "execution_count": null,
      "metadata": {
        "collapsed": false
      },
      "outputs": [],
      "source": [
        "corner = (0.0, 0.0, 0.0)\nblock_size = (1.0, 1.0, 1.0)\nshape = (2, 2, 2)\n\ntemp_dir: Path = Path(tempfile.gettempdir()) / \"block_model_example\"\n\ntemp_dir.mkdir(parents=True, exist_ok=True)\n# create a temporary file path for the block model\n\npbm: ParquetBlockModel = ParquetBlockModel.create_demo_block_model(filename=temp_dir / \"demo_block_model.parquet\",\n                                                                   block_size=block_size, corner=corner, shape=shape,\n                                                                   axis_azimuth=30, axis_dip=0, axis_plunge=0,\n                                                                   )\n\npbm"
      ]
    },
    {
      "cell_type": "markdown",
      "metadata": {},
      "source": [
        "## Check the block model\n\n"
      ]
    },
    {
      "cell_type": "code",
      "execution_count": null,
      "metadata": {
        "collapsed": false
      },
      "outputs": [],
      "source": [
        "print(\"Block Model Path:\", pbm.blockmodel_path)\nprint(\"Name:\", pbm.name)\nprint(\"Axis Angles:\", pbm.geometry.axis_angles)\nprint(\"Data Shape:\", pbm.data.shape)\nprint(\"Data Head:\\n\", pbm.data.head())\nprint(\"Model Attributes:\", pbm.attributes)"
      ]
    },
    {
      "cell_type": "markdown",
      "metadata": {},
      "source": [
        "Visualise\n\n"
      ]
    },
    {
      "cell_type": "code",
      "execution_count": null,
      "metadata": {
        "collapsed": false
      },
      "outputs": [],
      "source": [
        "p: pv.Plotter = pbm.plot(scalar='depth', grid_type=\"image\")\np.show()"
      ]
    }
  ],
  "metadata": {
    "kernelspec": {
      "display_name": "Python 3",
      "language": "python",
      "name": "python3"
    },
    "language_info": {
      "codemirror_mode": {
        "name": "ipython",
        "version": 3
      },
      "file_extension": ".py",
      "mimetype": "text/x-python",
      "name": "python",
      "nbconvert_exporter": "python",
      "pygments_lexer": "ipython3",
      "version": "3.12.9"
    }
  },
  "nbformat": 4,
  "nbformat_minor": 0
}